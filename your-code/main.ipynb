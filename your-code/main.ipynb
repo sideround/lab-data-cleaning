{
 "cells": [
  {
   "cell_type": "markdown",
   "metadata": {},
   "source": [
    "#### 1. Import pandas library"
   ]
  },
  {
   "cell_type": "code",
   "execution_count": 1,
   "metadata": {},
   "outputs": [],
   "source": [
    "import pandas as pd"
   ]
  },
  {
   "cell_type": "markdown",
   "metadata": {},
   "source": [
    "#### 2. Import BigQuery library\n"
   ]
  },
  {
   "cell_type": "code",
   "execution_count": 2,
   "metadata": {},
   "outputs": [],
   "source": [
    "import os\n",
    "os.environ[\"GOOGLE_APPLICATION_CREDENTIALS\"]= \"/Users/koide/Documents/ironhack-code/ironhack_service_account_big_query.json\"\n",
    "from google.cloud import bigquery"
   ]
  },
  {
   "cell_type": "markdown",
   "metadata": {},
   "source": [
    "#### 3. Create a connection to BigQuery"
   ]
  },
  {
   "cell_type": "code",
   "execution_count": 3,
   "metadata": {},
   "outputs": [],
   "source": [
    "client = bigquery.Client()"
   ]
  },
  {
   "cell_type": "markdown",
   "metadata": {},
   "source": [
    "#### 4. Import data from the users table from the stackoverflow public database for United Kingdom only"
   ]
  },
  {
   "cell_type": "code",
   "execution_count": 5,
   "metadata": {},
   "outputs": [
    {
     "data": {
      "text/html": [
       "<div>\n",
       "<style scoped>\n",
       "    .dataframe tbody tr th:only-of-type {\n",
       "        vertical-align: middle;\n",
       "    }\n",
       "\n",
       "    .dataframe tbody tr th {\n",
       "        vertical-align: top;\n",
       "    }\n",
       "\n",
       "    .dataframe thead th {\n",
       "        text-align: right;\n",
       "    }\n",
       "</style>\n",
       "<table border=\"1\" class=\"dataframe\">\n",
       "  <thead>\n",
       "    <tr style=\"text-align: right;\">\n",
       "      <th></th>\n",
       "      <th>id</th>\n",
       "      <th>display_name</th>\n",
       "      <th>about_me</th>\n",
       "      <th>age</th>\n",
       "      <th>creation_date</th>\n",
       "      <th>last_access_date</th>\n",
       "      <th>location</th>\n",
       "      <th>reputation</th>\n",
       "      <th>up_votes</th>\n",
       "      <th>down_votes</th>\n",
       "      <th>views</th>\n",
       "      <th>profile_image_url</th>\n",
       "      <th>website_url</th>\n",
       "    </tr>\n",
       "  </thead>\n",
       "  <tbody>\n",
       "    <tr>\n",
       "      <td>0</td>\n",
       "      <td>2434</td>\n",
       "      <td>Daniel James</td>\n",
       "      <td>None</td>\n",
       "      <td>None</td>\n",
       "      <td>2008-08-22 10:14:24.370000+00:00</td>\n",
       "      <td>2019-09-02 18:09:02.960000+00:00</td>\n",
       "      <td>United Kingdom</td>\n",
       "      <td>3659</td>\n",
       "      <td>333</td>\n",
       "      <td>24</td>\n",
       "      <td>469</td>\n",
       "      <td>None</td>\n",
       "      <td>None</td>\n",
       "    </tr>\n",
       "    <tr>\n",
       "      <td>1</td>\n",
       "      <td>8313</td>\n",
       "      <td>Sean Reilly</td>\n",
       "      <td>&lt;p&gt;A Canadian software developer living in Lon...</td>\n",
       "      <td>None</td>\n",
       "      <td>2008-09-15 15:42:10.250000+00:00</td>\n",
       "      <td>2019-11-22 22:54:42.587000+00:00</td>\n",
       "      <td>London, United Kingdom</td>\n",
       "      <td>18685</td>\n",
       "      <td>798</td>\n",
       "      <td>27</td>\n",
       "      <td>1594</td>\n",
       "      <td>None</td>\n",
       "      <td>None</td>\n",
       "    </tr>\n",
       "    <tr>\n",
       "      <td>2</td>\n",
       "      <td>21442</td>\n",
       "      <td>nationale</td>\n",
       "      <td>None</td>\n",
       "      <td>None</td>\n",
       "      <td>2008-09-24 00:03:25.460000+00:00</td>\n",
       "      <td>2008-10-13 02:26:37.530000+00:00</td>\n",
       "      <td>United Kingdom</td>\n",
       "      <td>183</td>\n",
       "      <td>2</td>\n",
       "      <td>0</td>\n",
       "      <td>25</td>\n",
       "      <td>None</td>\n",
       "      <td>None</td>\n",
       "    </tr>\n",
       "    <tr>\n",
       "      <td>3</td>\n",
       "      <td>26759</td>\n",
       "      <td>Chris Browne</td>\n",
       "      <td>c# developer working in london...more to come ...</td>\n",
       "      <td>None</td>\n",
       "      <td>2008-10-10 09:30:18.877000+00:00</td>\n",
       "      <td>2010-09-02 07:57:25.470000+00:00</td>\n",
       "      <td>London, United Kingdom</td>\n",
       "      <td>239</td>\n",
       "      <td>2</td>\n",
       "      <td>0</td>\n",
       "      <td>35</td>\n",
       "      <td>None</td>\n",
       "      <td>http://www.shift-in.com</td>\n",
       "    </tr>\n",
       "    <tr>\n",
       "      <td>4</td>\n",
       "      <td>34690</td>\n",
       "      <td>PolyglotProgrammer</td>\n",
       "      <td>None</td>\n",
       "      <td>None</td>\n",
       "      <td>2008-11-05 14:18:01.130000+00:00</td>\n",
       "      <td>2009-01-08 16:02:41.453000+00:00</td>\n",
       "      <td>London, United Kingdom</td>\n",
       "      <td>53</td>\n",
       "      <td>0</td>\n",
       "      <td>0</td>\n",
       "      <td>28</td>\n",
       "      <td>None</td>\n",
       "      <td>None</td>\n",
       "    </tr>\n",
       "    <tr>\n",
       "      <td>...</td>\n",
       "      <td>...</td>\n",
       "      <td>...</td>\n",
       "      <td>...</td>\n",
       "      <td>...</td>\n",
       "      <td>...</td>\n",
       "      <td>...</td>\n",
       "      <td>...</td>\n",
       "      <td>...</td>\n",
       "      <td>...</td>\n",
       "      <td>...</td>\n",
       "      <td>...</td>\n",
       "      <td>...</td>\n",
       "      <td>...</td>\n",
       "    </tr>\n",
       "    <tr>\n",
       "      <td>66827</td>\n",
       "      <td>1983834</td>\n",
       "      <td>PhillBooth</td>\n",
       "      <td>None</td>\n",
       "      <td>None</td>\n",
       "      <td>2013-01-16 13:37:33.267000+00:00</td>\n",
       "      <td>2019-06-23 11:40:26.567000+00:00</td>\n",
       "      <td>Telford, United Kingdom</td>\n",
       "      <td>41</td>\n",
       "      <td>2</td>\n",
       "      <td>0</td>\n",
       "      <td>12</td>\n",
       "      <td>None</td>\n",
       "      <td>None</td>\n",
       "    </tr>\n",
       "    <tr>\n",
       "      <td>66828</td>\n",
       "      <td>7549786</td>\n",
       "      <td>Wandy</td>\n",
       "      <td>&lt;p&gt;A noob in everything lol&lt;/p&gt;</td>\n",
       "      <td>None</td>\n",
       "      <td>2017-02-11 10:52:44.887000+00:00</td>\n",
       "      <td>2018-12-19 04:36:50.567000+00:00</td>\n",
       "      <td>London, United Kingdom</td>\n",
       "      <td>41</td>\n",
       "      <td>0</td>\n",
       "      <td>0</td>\n",
       "      <td>12</td>\n",
       "      <td>https://graph.facebook.com/1372256119482433/pi...</td>\n",
       "      <td>None</td>\n",
       "    </tr>\n",
       "    <tr>\n",
       "      <td>66829</td>\n",
       "      <td>598555</td>\n",
       "      <td>leeboyce</td>\n",
       "      <td>None</td>\n",
       "      <td>None</td>\n",
       "      <td>2011-02-01 14:42:04.980000+00:00</td>\n",
       "      <td>2019-11-29 10:36:33.810000+00:00</td>\n",
       "      <td>Scotland, United Kingdom</td>\n",
       "      <td>41</td>\n",
       "      <td>16</td>\n",
       "      <td>0</td>\n",
       "      <td>12</td>\n",
       "      <td>https://i.stack.imgur.com/XIydf.jpg</td>\n",
       "      <td>http://www.leeboyce.co.uk</td>\n",
       "    </tr>\n",
       "    <tr>\n",
       "      <td>66830</td>\n",
       "      <td>4425147</td>\n",
       "      <td>Russell Warwick</td>\n",
       "      <td>None</td>\n",
       "      <td>None</td>\n",
       "      <td>2015-01-06 18:50:06.057000+00:00</td>\n",
       "      <td>2019-10-18 13:18:51.557000+00:00</td>\n",
       "      <td>York, United Kingdom</td>\n",
       "      <td>41</td>\n",
       "      <td>8</td>\n",
       "      <td>0</td>\n",
       "      <td>13</td>\n",
       "      <td>https://graph.facebook.com/100001123548969/pic...</td>\n",
       "      <td>https://dribbble.com/waruss</td>\n",
       "    </tr>\n",
       "    <tr>\n",
       "      <td>66831</td>\n",
       "      <td>741944</td>\n",
       "      <td>user741944</td>\n",
       "      <td>None</td>\n",
       "      <td>None</td>\n",
       "      <td>2011-05-06 14:24:32.657000+00:00</td>\n",
       "      <td>2019-07-26 07:20:11.497000+00:00</td>\n",
       "      <td>Cambridge, United Kingdom</td>\n",
       "      <td>41</td>\n",
       "      <td>61</td>\n",
       "      <td>0</td>\n",
       "      <td>13</td>\n",
       "      <td>None</td>\n",
       "      <td>None</td>\n",
       "    </tr>\n",
       "  </tbody>\n",
       "</table>\n",
       "<p>66832 rows × 13 columns</p>\n",
       "</div>"
      ],
      "text/plain": [
       "            id        display_name  \\\n",
       "0         2434        Daniel James   \n",
       "1         8313         Sean Reilly   \n",
       "2        21442           nationale   \n",
       "3        26759        Chris Browne   \n",
       "4        34690  PolyglotProgrammer   \n",
       "...        ...                 ...   \n",
       "66827  1983834          PhillBooth   \n",
       "66828  7549786               Wandy   \n",
       "66829   598555            leeboyce   \n",
       "66830  4425147     Russell Warwick   \n",
       "66831   741944          user741944   \n",
       "\n",
       "                                                about_me   age  \\\n",
       "0                                                   None  None   \n",
       "1      <p>A Canadian software developer living in Lon...  None   \n",
       "2                                                   None  None   \n",
       "3      c# developer working in london...more to come ...  None   \n",
       "4                                                   None  None   \n",
       "...                                                  ...   ...   \n",
       "66827                                               None  None   \n",
       "66828                    <p>A noob in everything lol</p>  None   \n",
       "66829                                               None  None   \n",
       "66830                                               None  None   \n",
       "66831                                               None  None   \n",
       "\n",
       "                         creation_date                 last_access_date  \\\n",
       "0     2008-08-22 10:14:24.370000+00:00 2019-09-02 18:09:02.960000+00:00   \n",
       "1     2008-09-15 15:42:10.250000+00:00 2019-11-22 22:54:42.587000+00:00   \n",
       "2     2008-09-24 00:03:25.460000+00:00 2008-10-13 02:26:37.530000+00:00   \n",
       "3     2008-10-10 09:30:18.877000+00:00 2010-09-02 07:57:25.470000+00:00   \n",
       "4     2008-11-05 14:18:01.130000+00:00 2009-01-08 16:02:41.453000+00:00   \n",
       "...                                ...                              ...   \n",
       "66827 2013-01-16 13:37:33.267000+00:00 2019-06-23 11:40:26.567000+00:00   \n",
       "66828 2017-02-11 10:52:44.887000+00:00 2018-12-19 04:36:50.567000+00:00   \n",
       "66829 2011-02-01 14:42:04.980000+00:00 2019-11-29 10:36:33.810000+00:00   \n",
       "66830 2015-01-06 18:50:06.057000+00:00 2019-10-18 13:18:51.557000+00:00   \n",
       "66831 2011-05-06 14:24:32.657000+00:00 2019-07-26 07:20:11.497000+00:00   \n",
       "\n",
       "                        location  reputation  up_votes  down_votes  views  \\\n",
       "0                 United Kingdom        3659       333          24    469   \n",
       "1         London, United Kingdom       18685       798          27   1594   \n",
       "2                 United Kingdom         183         2           0     25   \n",
       "3         London, United Kingdom         239         2           0     35   \n",
       "4         London, United Kingdom          53         0           0     28   \n",
       "...                          ...         ...       ...         ...    ...   \n",
       "66827    Telford, United Kingdom          41         2           0     12   \n",
       "66828     London, United Kingdom          41         0           0     12   \n",
       "66829   Scotland, United Kingdom          41        16           0     12   \n",
       "66830       York, United Kingdom          41         8           0     13   \n",
       "66831  Cambridge, United Kingdom          41        61           0     13   \n",
       "\n",
       "                                       profile_image_url  \\\n",
       "0                                                   None   \n",
       "1                                                   None   \n",
       "2                                                   None   \n",
       "3                                                   None   \n",
       "4                                                   None   \n",
       "...                                                  ...   \n",
       "66827                                               None   \n",
       "66828  https://graph.facebook.com/1372256119482433/pi...   \n",
       "66829                https://i.stack.imgur.com/XIydf.jpg   \n",
       "66830  https://graph.facebook.com/100001123548969/pic...   \n",
       "66831                                               None   \n",
       "\n",
       "                       website_url  \n",
       "0                             None  \n",
       "1                             None  \n",
       "2                             None  \n",
       "3          http://www.shift-in.com  \n",
       "4                             None  \n",
       "...                            ...  \n",
       "66827                         None  \n",
       "66828                         None  \n",
       "66829    http://www.leeboyce.co.uk  \n",
       "66830  https://dribbble.com/waruss  \n",
       "66831                         None  \n",
       "\n",
       "[66832 rows x 13 columns]"
      ]
     },
     "execution_count": 5,
     "metadata": {},
     "output_type": "execute_result"
    }
   ],
   "source": [
    "sql = \"\"\"\n",
    "SELECT * \n",
    "FROM `bigquery-public-data.stackoverflow.users`\n",
    "WHERE location LIKE \"%United Kingdom%\"\n",
    "\"\"\"\n",
    "\n",
    "query_job = client.query(query=sql)\n",
    "df = query_job.to_dataframe()\n",
    "df"
   ]
  },
  {
   "cell_type": "markdown",
   "metadata": {},
   "source": [
    "#### 5. Rename id column to user_id"
   ]
  },
  {
   "cell_type": "code",
   "execution_count": 6,
   "metadata": {},
   "outputs": [],
   "source": [
    "df.rename(columns={'id':'user_id'}, inplace=True)"
   ]
  },
  {
   "cell_type": "markdown",
   "metadata": {},
   "source": [
    "#### 6. Import from the stackoverflow_posts table all items which have up to 20 view counts and only select 'id', 'owner_user_id', 'score', 'view_count', 'comment_count', 'favorite_count'"
   ]
  },
  {
   "cell_type": "code",
   "execution_count": null,
   "metadata": {},
   "outputs": [],
   "source": [
    "sql = \"\"\"\n",
    "SELECT id, owner_user_id, score, view_count, comment_count, favorite_count\n",
    "FROM `bigquery-public-data.stackoverflow.stackoverflow_posts`\n",
    "\"\"\"\n",
    "\n",
    "query_job = client.query(query=sql)\n",
    "df = query_job.to_dataframe()\n",
    "df"
   ]
  },
  {
   "cell_type": "markdown",
   "metadata": {},
   "source": [
    "#### 7. Rename id column to post_id and owner_user_id to user_id"
   ]
  },
  {
   "cell_type": "code",
   "execution_count": null,
   "metadata": {},
   "outputs": [],
   "source": [
    "df.rename(columns={'id':'post_id', 'owner_user_id': 'user_id'}, inplace=True)"
   ]
  },
  {
   "cell_type": "markdown",
   "metadata": {},
   "source": [
    "#### 8. Define new dataframes for users and posts with the following selected columns:\n",
    "    **users columns**: user_id, reputation,views,up_votes,down_votes\n",
    "    **posts columns**: post_id, score,user_id,view_count,comment_count"
   ]
  },
  {
   "cell_type": "code",
   "execution_count": null,
   "metadata": {},
   "outputs": [],
   "source": [
    "users_columns = pd.DataFrame()\n",
    "posts_columns = pd.DataFrame()"
   ]
  },
  {
   "cell_type": "markdown",
   "metadata": {},
   "source": [
    "#### 8. Merge both dataframes, users and posts. \n",
    "You will need to make a [merge](https://pandas.pydata.org/pandas-docs/stable/generated/pandas.DataFrame.merge.html) of posts and users dataframes."
   ]
  },
  {
   "cell_type": "code",
   "execution_count": null,
   "metadata": {},
   "outputs": [],
   "source": [
    "merged_dataframe = pd.DataFrame.merge(users_columns, posts_columns)"
   ]
  },
  {
   "cell_type": "markdown",
   "metadata": {},
   "source": [
    "#### 9. How many missing values do you have in your merged dataframe? "
   ]
  },
  {
   "cell_type": "code",
   "execution_count": null,
   "metadata": {},
   "outputs": [],
   "source": []
  },
  {
   "cell_type": "markdown",
   "metadata": {},
   "source": [
    "#### Bonus: Identify extreme values in your merged dataframe, create a dataframe called outliers with the same columns as our data set and calculate the bounds. The values of the outliers dataframe will be the values of the merged_df that fall outside that bounds. You will need to save your outliers dataframe to a csv file on your-code folder. Hint: post_id cannot have outliers!"
   ]
  }
 ],
 "metadata": {
  "kernelspec": {
   "display_name": "Python 3",
   "language": "python",
   "name": "python3"
  },
  "language_info": {
   "codemirror_mode": {
    "name": "ipython",
    "version": 3
   },
   "file_extension": ".py",
   "mimetype": "text/x-python",
   "name": "python",
   "nbconvert_exporter": "python",
   "pygments_lexer": "ipython3",
   "version": "3.7.4"
  }
 },
 "nbformat": 4,
 "nbformat_minor": 2
}
